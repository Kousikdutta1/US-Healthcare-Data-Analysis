{
 "cells": [
  {
   "cell_type": "code",
   "execution_count": 41,
   "id": "e0b8292b",
   "metadata": {},
   "outputs": [],
   "source": [
    "# Let's import OS library\n",
    " \n",
    "import os"
   ]
  },
  {
   "cell_type": "code",
   "execution_count": 42,
   "id": "677b097a",
   "metadata": {},
   "outputs": [
    {
     "name": "stdout",
     "output_type": "stream",
     "text": [
      "['C:/Users/Futurense/Desktop/Projects - US Healthcare/US Healthcare/HealthcareTables\\\\Address\\\\Address.sql', 'C:/Users/Futurense/Desktop/Projects - US Healthcare/US Healthcare/HealthcareTables\\\\Claim\\\\Claim.sql', 'C:/Users/Futurense/Desktop/Projects - US Healthcare/US Healthcare/HealthcareTables\\\\Contain\\\\Contain.sql', 'C:/Users/Futurense/Desktop/Projects - US Healthcare/US Healthcare/HealthcareTables\\\\Disease\\\\Disease.sql', 'C:/Users/Futurense/Desktop/Projects - US Healthcare/US Healthcare/HealthcareTables\\\\InsuranceCompany\\\\InsuranceCompany.sql', 'C:/Users/Futurense/Desktop/Projects - US Healthcare/US Healthcare/HealthcareTables\\\\InsurancePlan\\\\InsurancePlan.sql', 'C:/Users/Futurense/Desktop/Projects - US Healthcare/US Healthcare/HealthcareTables\\\\Keep\\\\Keep.sql', 'C:/Users/Futurense/Desktop/Projects - US Healthcare/US Healthcare/HealthcareTables\\\\Medicine\\\\Medicine.sql', 'C:/Users/Futurense/Desktop/Projects - US Healthcare/US Healthcare/HealthcareTables\\\\Patient\\\\Patient.sql', 'C:/Users/Futurense/Desktop/Projects - US Healthcare/US Healthcare/HealthcareTables\\\\Person\\\\Person.sql', 'C:/Users/Futurense/Desktop/Projects - US Healthcare/US Healthcare/HealthcareTables\\\\Pharmacy\\\\Pharmacy.sql', 'C:/Users/Futurense/Desktop/Projects - US Healthcare/US Healthcare/HealthcareTables\\\\Prescription\\\\Prescription.sql', 'C:/Users/Futurense/Desktop/Projects - US Healthcare/US Healthcare/HealthcareTables\\\\Treatment\\\\Treatment.sql']\n"
     ]
    }
   ],
   "source": [
    "# Let's get all the file name's with .sql extension with the help of os module\n",
    "\n",
    "# Let's get the folder path \n",
    "folder_path = 'C:/Users/Futurense/Desktop/Projects - US Healthcare/US Healthcare/HealthcareTables'\n",
    "\n",
    "# Let's iterate through the files in the folder\n",
    "filepaths = []\n",
    "\n",
    "for filename in os.listdir(folder_path):\n",
    "    for file in os.listdir(os.path.join(folder_path,filename)):\n",
    "        if file.endswith('.sql'):\n",
    "            filepath = os.path.join(folder_path,filename, file)\n",
    "            filepaths.append(filepath)\n",
    "print(filepaths)"
   ]
  },
  {
   "cell_type": "code",
   "execution_count": 43,
   "id": "285dd731",
   "metadata": {},
   "outputs": [],
   "source": [
    "# Let's import necessary package for sql server connection\n",
    "import pyodbc"
   ]
  },
  {
   "cell_type": "code",
   "execution_count": 44,
   "id": "fd9b5171",
   "metadata": {},
   "outputs": [],
   "source": [
    "# Let's set up connection string\n",
    "\n",
    "conn = pyodbc.connect('Driver={SQL Server};'\n",
    "                     'Server=DESKTOP-TOEPTEF\\SQL_SERVER;'\n",
    "                     'Trusted_Connection=yes;')"
   ]
  },
  {
   "cell_type": "code",
   "execution_count": 45,
   "id": "137f2b26",
   "metadata": {},
   "outputs": [],
   "source": [
    "# Let's Create a cursor object to execute SQL queries\n",
    "\n",
    "mycursor = conn.cursor()"
   ]
  },
  {
   "cell_type": "code",
   "execution_count": 46,
   "id": "705ae805",
   "metadata": {},
   "outputs": [],
   "source": [
    "conn.autocommit = True"
   ]
  },
  {
   "cell_type": "code",
   "execution_count": 47,
   "id": "85434216",
   "metadata": {},
   "outputs": [
    {
     "data": {
      "text/plain": [
       "<pyodbc.Cursor at 0x1720a363530>"
      ]
     },
     "execution_count": 47,
     "metadata": {},
     "output_type": "execute_result"
    }
   ],
   "source": [
    "# Now, let's create a new database\n",
    "\n",
    "mycursor.execute(\"CREATE DATABASE US_Healthcare\")"
   ]
  },
  {
   "cell_type": "code",
   "execution_count": 48,
   "id": "6a11ff65",
   "metadata": {},
   "outputs": [
    {
     "data": {
      "text/plain": [
       "<pyodbc.Cursor at 0x1720a363530>"
      ]
     },
     "execution_count": 48,
     "metadata": {},
     "output_type": "execute_result"
    }
   ],
   "source": [
    "# Let's use the US_Healthcare database\n",
    "\n",
    "mycursor.execute('USE US_Healthcare')"
   ]
  },
  {
   "cell_type": "code",
   "execution_count": 49,
   "id": "00fc88a2",
   "metadata": {},
   "outputs": [],
   "source": [
    "# Let's create all the tables\n",
    "\n",
    "error_log_file = []\n",
    "\n",
    "for filepath in filepaths:\n",
    "    with open(filepath,'r') as file:\n",
    "        sql_script = file.read()\n",
    "        split_lines = sql_script.split(';')\n",
    "        for row in split_lines:\n",
    "            try:\n",
    "                mycursor.execute(row)\n",
    "                mycursor.commit()\n",
    "            except Exception as e:\n",
    "                error_log_file.append(split_lines)"
   ]
  },
  {
   "cell_type": "code",
   "execution_count": 51,
   "id": "e572b051",
   "metadata": {},
   "outputs": [
    {
     "data": {
      "text/plain": [
       "233"
      ]
     },
     "execution_count": 51,
     "metadata": {},
     "output_type": "execute_result"
    }
   ],
   "source": [
    "# Let's see the length of the error file\n",
    "\n",
    "len(error_log_file)"
   ]
  },
  {
   "cell_type": "code",
   "execution_count": null,
   "id": "240ba460",
   "metadata": {},
   "outputs": [],
   "source": [
    "mycursor.execute(\"DROP DATABASE US_Healthcare\")"
   ]
  },
  {
   "cell_type": "code",
   "execution_count": 52,
   "id": "b54318a0",
   "metadata": {},
   "outputs": [],
   "source": [
    "mycursor.close()\n",
    "conn.close()"
   ]
  }
 ],
 "metadata": {
  "kernelspec": {
   "display_name": "Python 3 (ipykernel)",
   "language": "python",
   "name": "python3"
  },
  "language_info": {
   "codemirror_mode": {
    "name": "ipython",
    "version": 3
   },
   "file_extension": ".py",
   "mimetype": "text/x-python",
   "name": "python",
   "nbconvert_exporter": "python",
   "pygments_lexer": "ipython3",
   "version": "3.10.9"
  }
 },
 "nbformat": 4,
 "nbformat_minor": 5
}
